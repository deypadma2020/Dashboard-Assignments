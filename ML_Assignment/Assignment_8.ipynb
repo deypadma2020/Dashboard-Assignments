{
  "nbformat": 4,
  "nbformat_minor": 0,
  "metadata": {
    "colab": {
      "provenance": []
    },
    "kernelspec": {
      "name": "python3",
      "display_name": "Python 3"
    },
    "language_info": {
      "name": "python"
    }
  },
  "cells": [
    {
      "cell_type": "markdown",
      "source": [
        "## 1. What exactly is a feature? Give an example to illustrate your point."
      ],
      "metadata": {
        "id": "CpbgEDp4cyyu"
      }
    },
    {
      "cell_type": "markdown",
      "source": [
        "Ans: -\n",
        "\n",
        "- A feature is a distinctive trait or a special attraction. Feature can also mean to give special attention to something. The word feature has several other senses as a noun and a verb. A feature is a unique quality or characteristic that something has.\n",
        "- In machine learning, a feature is data that's used as the input for ML models to make predictions. Raw data is rarely in a format that is consumable by an ML model, so it needs to be transformed into features. This process is called feature engineering.\n",
        "- A feature is a unique quality or characteristic that something has. Real-life examples: Elaborately colored tail feathers are peacocks' most well-known feature. Earth has many features, such as a particular atmosphere, abundance of water, and temperature that make it able to sustain life."
      ],
      "metadata": {
        "id": "JdNPQiRucyvU"
      }
    },
    {
      "cell_type": "code",
      "execution_count": null,
      "metadata": {
        "id": "H-aPl6saTx5q"
      },
      "outputs": [],
      "source": []
    },
    {
      "cell_type": "markdown",
      "source": [
        "## 2. What are the various circumstances in which feature construction is required?"
      ],
      "metadata": {
        "id": "SVIgFi2Yc_XY"
      }
    },
    {
      "cell_type": "markdown",
      "source": [
        "Ans: -\n",
        "\n",
        "They may be issued for addition or omission of work, change in plans, design, schedule, or scope. Due to dynamic and complex structure of the construction industry it is almost impossible to complete a project without issuing a variation order."
      ],
      "metadata": {
        "id": "7aHNdGyCc_Tx"
      }
    },
    {
      "cell_type": "code",
      "source": [],
      "metadata": {
        "id": "Df4XSzNTdE9R"
      },
      "execution_count": null,
      "outputs": []
    },
    {
      "cell_type": "markdown",
      "source": [
        "## 3. Describe how nominal variables are encoded."
      ],
      "metadata": {
        "id": "wS_lnNNFdFc7"
      }
    },
    {
      "cell_type": "markdown",
      "source": [
        "Ans: -\n",
        "\n",
        "When we have a feature where variables are just names and there is no order or rank to this variable's feature. For example: City of person lives in, Gender of person, Marital Status, etc… In the above example, We do not have any order or rank, or sequence."
      ],
      "metadata": {
        "id": "bHoz7YwgdFZk"
      }
    },
    {
      "cell_type": "code",
      "source": [],
      "metadata": {
        "id": "y_yjqPKZdJoA"
      },
      "execution_count": null,
      "outputs": []
    },
    {
      "cell_type": "markdown",
      "source": [
        "## 4. Describe how numeric features are converted to categorical features."
      ],
      "metadata": {
        "id": "bk3qPRdjdLAf"
      }
    },
    {
      "cell_type": "markdown",
      "source": [
        "Ans: -\n",
        "\n",
        "Discretization: It is the process of transforming continuous variables into categorical variables by creating a set of intervals, which are contiguous, that span over the range of the variable's values. It is also known as “Binning”, where the bin is an analogous name for an interval."
      ],
      "metadata": {
        "id": "xo4LAHoadK7o"
      }
    },
    {
      "cell_type": "code",
      "source": [],
      "metadata": {
        "id": "juwOK4ELdPf_"
      },
      "execution_count": null,
      "outputs": []
    },
    {
      "cell_type": "markdown",
      "source": [
        "## 5. Describe the feature selection wrapper approach. State the advantages and disadvantages of this approach?"
      ],
      "metadata": {
        "id": "WPvsZbijdQB-"
      }
    },
    {
      "cell_type": "markdown",
      "source": [
        "Ans: -\n",
        "\n",
        "- In wrapper methods, the feature selection process is based on a specific machine learning algorithm that we are trying to fit on a given dataset. It follows a greedy search approach by evaluating all the possible combinations of features against the evaluation criterion.\n",
        "- Advantege: Training a machine learning algorithm faster. Reducing the complexity of a model and making it easier to interpret. Building a sensible model with better prediction power. Reducing over-fitting by selecting the right set of features.\n",
        "\n",
        "  Disadvantage: There are several disadvantages with WFS such as computationally intensive, discriminative power, lower shorter training times, classifier dependent selection, and higher risk of over-fitting than deterministic algorithms (Aziz et al., 2017) ."
      ],
      "metadata": {
        "id": "T1Uk0rWDdP-X"
      }
    },
    {
      "cell_type": "code",
      "source": [],
      "metadata": {
        "id": "vHvjXqUhdVnL"
      },
      "execution_count": null,
      "outputs": []
    },
    {
      "cell_type": "markdown",
      "source": [
        "## 6. When is a feature considered irrelevant? What can be said to quantify it?"
      ],
      "metadata": {
        "id": "E1hHSpiUdWQc"
      }
    },
    {
      "cell_type": "markdown",
      "source": [
        "Ans: -\n",
        "\n",
        "- One general definition for relevance is that a feature can be regarded as irrelevant if it is conditionally independent of the class labels or it does not influence the class labels; in these cases, it can be discarded.\n",
        "- Irrelevant features are not necessary to include at all. The feature which did not require for predicting accuracy is known as an irrelevant feature. The relevancy of the feature is measured based on the characteristics of the data not by its value."
      ],
      "metadata": {
        "id": "g0f11yX-dWNB"
      }
    },
    {
      "cell_type": "code",
      "source": [],
      "metadata": {
        "id": "tfzE7o15dasz"
      },
      "execution_count": null,
      "outputs": []
    },
    {
      "cell_type": "markdown",
      "source": [
        "## 7. When is a function considered redundant? What criteria are used to identify features that could be redundant?"
      ],
      "metadata": {
        "id": "0CwSmKXldbLW"
      }
    },
    {
      "cell_type": "markdown",
      "source": [
        "Ans: -\n",
        "\n",
        "- Multiple calls to the same function using the same argument values are often redundant, and the result of the earlier call can be reused. This is similar to the reuse of redundant arithmetic expressions in redundancy elimination.\n",
        "- Redundancy for continuous features is defined by Pearson correlation coefficient and Euclidian distance. Moreover, they apply inverse distance as a similarity measure and, in this case, maximize the product of relevance and redundancy."
      ],
      "metadata": {
        "id": "UMRHYP9_dbH5"
      }
    },
    {
      "cell_type": "code",
      "source": [],
      "metadata": {
        "id": "V-hMxKTYdgqn"
      },
      "execution_count": null,
      "outputs": []
    },
    {
      "cell_type": "markdown",
      "source": [
        "## 8. What are the various distance measurements used to determine feature similarity?"
      ],
      "metadata": {
        "id": "1E5s6P-ndhaT"
      }
    },
    {
      "cell_type": "markdown",
      "source": [
        "Ans: -\n",
        "\n",
        "1. Role of Distance Measures\n",
        "2. Hamming Distance\n",
        "3. Euclidean Distance\n",
        "4. Manhattan Distance (Taxicab or City Block)"
      ],
      "metadata": {
        "id": "W7fCnkC-dhW6"
      }
    },
    {
      "cell_type": "code",
      "source": [],
      "metadata": {
        "id": "3wzS8r8PdlPC"
      },
      "execution_count": null,
      "outputs": []
    },
    {
      "cell_type": "markdown",
      "source": [
        "## 9. State difference between Euclidean and Manhattan distances?"
      ],
      "metadata": {
        "id": "I9gRlQCudma2"
      }
    },
    {
      "cell_type": "markdown",
      "source": [
        "Ans: -\n",
        "\n",
        "The difference depends on your data. For high dimensional vectors you might find that Manhattan works better than the Euclidean distance."
      ],
      "metadata": {
        "id": "m0KbRgC1dmXZ"
      }
    },
    {
      "cell_type": "code",
      "source": [],
      "metadata": {
        "id": "K8EGZn35dqwB"
      },
      "execution_count": null,
      "outputs": []
    },
    {
      "cell_type": "markdown",
      "source": [
        "## 10. Distinguish between feature transformation and feature selection."
      ],
      "metadata": {
        "id": "eG55y9_DdrQF"
      }
    },
    {
      "cell_type": "markdown",
      "source": [
        "Ans: -\n",
        "\n",
        "feature transformation: transformation of data to improve the accuracy of the algorithm; \n",
        "\n",
        "feature selection: removing unnecessary features."
      ],
      "metadata": {
        "id": "LghhFMH5drLa"
      }
    },
    {
      "cell_type": "code",
      "source": [],
      "metadata": {
        "id": "soi1TBXMdu48"
      },
      "execution_count": null,
      "outputs": []
    },
    {
      "cell_type": "markdown",
      "source": [
        "## 11. Make brief notes on any two of the following:\n",
        "\n",
        "1. SVD (Standard Variable Diameter Diameter)\n",
        "\n",
        "2. Collection of features using a hybrid approach\n",
        "\n",
        "3. The width of the silhouette\n",
        "\n",
        "4. Receiver operating characteristic curve"
      ],
      "metadata": {
        "id": "2ekAuXjCdwaA"
      }
    },
    {
      "cell_type": "markdown",
      "source": [
        "Ans: -\n",
        "\n",
        "1. SVD, or Singular Value Decomposition, is one of several techniques that can be used to reduce the dimensionality, i.e., the number of columns, of a data set. Why would we want to reduce the number of dimensions? In predictive analytics, more columns normally means more time required to build models and score data.\n",
        "2. A hybrid feature selection method is proposed for classification in small sample size data sets. The filter step is based on instance learning taking advantage of the small sample size of data. A few candidate feature subsets are generated since their number corresponds to the number of instances.\n",
        "3. Silhouette width is a widely used index for assessing the fit of individual objects in the classification, as well as the quality of clusters and the entire classification.\n",
        "4. The receiver operating characteristic (ROC) curve, which is defined as a plot of test sensitivity as the y coordinate versus its 1-specificity or false positive rate (FPR) as the x coordinate, is an effective method of evaluating the performance of diagnostic tests."
      ],
      "metadata": {
        "id": "vQCsTs2XdwWf"
      }
    },
    {
      "cell_type": "code",
      "source": [],
      "metadata": {
        "id": "-bvQ560Rd2Wn"
      },
      "execution_count": null,
      "outputs": []
    }
  ]
}